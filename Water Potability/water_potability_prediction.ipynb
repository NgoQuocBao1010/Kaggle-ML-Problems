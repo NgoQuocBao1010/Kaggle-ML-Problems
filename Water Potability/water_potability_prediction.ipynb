{
    "cells": [
        {
            "cell_type": "markdown",
            "metadata": {},
            "source": [
                "# Kaggle Challenge\n",
                "https://www.kaggle.com/adityakadiwal/water-potability/\n",
                "Predict if water is safe for Human consumption\n",
                "Task Details\n",
                "\n",
                "Create a model to determine if the sample tested from the water body is fit for human consumption or not.\n",
                "This dataset may require you to treat missing value if any and check for data imbalance."
            ]
        },
        {
            "cell_type": "code",
            "execution_count": 1,
            "metadata": {},
            "outputs": [],
            "source": [
                "import pandas as pd\n",
                "import matplotlib.pyplot as plt\n",
                "import seaborn as sns\n",
                "import numpy as np\n",
                "\n",
                "import warnings\n",
                "warnings.filterwarnings('ignore')"
            ]
        },
        {
            "cell_type": "code",
            "execution_count": 2,
            "metadata": {},
            "outputs": [],
            "source": [
                "data = pd.read_csv(\"./water_potability.csv\")"
            ]
        },
        {
            "cell_type": "markdown",
            "metadata": {},
            "source": [
                "## Take a look at data"
            ]
        },
        {
            "cell_type": "code",
            "execution_count": 3,
            "metadata": {},
            "outputs": [
                {
                    "name": "stdout",
                    "output_type": "stream",
                    "text": [
                        "Number of rows: 3276 \n",
                        "Number of columns: 10\n",
                        "['ph', 'Hardness', 'Solids', 'Chloramines', 'Sulfate', 'Conductivity', 'Organic_carbon', 'Trihalomethanes', 'Turbidity', 'Potability']\n",
                        "<class 'pandas.core.frame.DataFrame'>\n",
                        "RangeIndex: 3276 entries, 0 to 3275\n",
                        "Data columns (total 10 columns):\n",
                        " #   Column           Non-Null Count  Dtype  \n",
                        "---  ------           --------------  -----  \n",
                        " 0   ph               2785 non-null   float64\n",
                        " 1   Hardness         3276 non-null   float64\n",
                        " 2   Solids           3276 non-null   float64\n",
                        " 3   Chloramines      3276 non-null   float64\n",
                        " 4   Sulfate          2495 non-null   float64\n",
                        " 5   Conductivity     3276 non-null   float64\n",
                        " 6   Organic_carbon   3276 non-null   float64\n",
                        " 7   Trihalomethanes  3114 non-null   float64\n",
                        " 8   Turbidity        3276 non-null   float64\n",
                        " 9   Potability       3276 non-null   int64  \n",
                        "dtypes: float64(9), int64(1)\n",
                        "memory usage: 256.1 KB\n"
                    ]
                }
            ],
            "source": [
                "print(f'Number of rows: {data.shape[0]} \\nNumber of columns: {data.shape[1]}')\n",
                "\n",
                "print(list(data.columns))  # Headers of data\n",
                "\n",
                "data.info()"
            ]
        },
        {
            "cell_type": "code",
            "execution_count": 4,
            "metadata": {},
            "outputs": [
                {
                    "data": {
                        "text/html": [
                            "<div>\n",
                            "<style scoped>\n",
                            "    .dataframe tbody tr th:only-of-type {\n",
                            "        vertical-align: middle;\n",
                            "    }\n",
                            "\n",
                            "    .dataframe tbody tr th {\n",
                            "        vertical-align: top;\n",
                            "    }\n",
                            "\n",
                            "    .dataframe thead th {\n",
                            "        text-align: right;\n",
                            "    }\n",
                            "</style>\n",
                            "<table border=\"1\" class=\"dataframe\">\n",
                            "  <thead>\n",
                            "    <tr style=\"text-align: right;\">\n",
                            "      <th></th>\n",
                            "      <th>ph</th>\n",
                            "      <th>Hardness</th>\n",
                            "      <th>Solids</th>\n",
                            "      <th>Chloramines</th>\n",
                            "      <th>Sulfate</th>\n",
                            "      <th>Conductivity</th>\n",
                            "      <th>Organic_carbon</th>\n",
                            "      <th>Trihalomethanes</th>\n",
                            "      <th>Turbidity</th>\n",
                            "      <th>Potability</th>\n",
                            "    </tr>\n",
                            "  </thead>\n",
                            "  <tbody>\n",
                            "    <tr>\n",
                            "      <th>count</th>\n",
                            "      <td>2785.000000</td>\n",
                            "      <td>3276.000000</td>\n",
                            "      <td>3276.000000</td>\n",
                            "      <td>3276.000000</td>\n",
                            "      <td>2495.000000</td>\n",
                            "      <td>3276.000000</td>\n",
                            "      <td>3276.000000</td>\n",
                            "      <td>3114.000000</td>\n",
                            "      <td>3276.000000</td>\n",
                            "      <td>3276.000000</td>\n",
                            "    </tr>\n",
                            "    <tr>\n",
                            "      <th>mean</th>\n",
                            "      <td>7.080795</td>\n",
                            "      <td>196.369496</td>\n",
                            "      <td>22014.092526</td>\n",
                            "      <td>7.122277</td>\n",
                            "      <td>333.775777</td>\n",
                            "      <td>426.205111</td>\n",
                            "      <td>14.284970</td>\n",
                            "      <td>66.396293</td>\n",
                            "      <td>3.966786</td>\n",
                            "      <td>0.390110</td>\n",
                            "    </tr>\n",
                            "    <tr>\n",
                            "      <th>std</th>\n",
                            "      <td>1.594320</td>\n",
                            "      <td>32.879761</td>\n",
                            "      <td>8768.570828</td>\n",
                            "      <td>1.583085</td>\n",
                            "      <td>41.416840</td>\n",
                            "      <td>80.824064</td>\n",
                            "      <td>3.308162</td>\n",
                            "      <td>16.175008</td>\n",
                            "      <td>0.780382</td>\n",
                            "      <td>0.487849</td>\n",
                            "    </tr>\n",
                            "    <tr>\n",
                            "      <th>min</th>\n",
                            "      <td>0.000000</td>\n",
                            "      <td>47.432000</td>\n",
                            "      <td>320.942611</td>\n",
                            "      <td>0.352000</td>\n",
                            "      <td>129.000000</td>\n",
                            "      <td>181.483754</td>\n",
                            "      <td>2.200000</td>\n",
                            "      <td>0.738000</td>\n",
                            "      <td>1.450000</td>\n",
                            "      <td>0.000000</td>\n",
                            "    </tr>\n",
                            "    <tr>\n",
                            "      <th>25%</th>\n",
                            "      <td>6.093092</td>\n",
                            "      <td>176.850538</td>\n",
                            "      <td>15666.690297</td>\n",
                            "      <td>6.127421</td>\n",
                            "      <td>307.699498</td>\n",
                            "      <td>365.734414</td>\n",
                            "      <td>12.065801</td>\n",
                            "      <td>55.844536</td>\n",
                            "      <td>3.439711</td>\n",
                            "      <td>0.000000</td>\n",
                            "    </tr>\n",
                            "    <tr>\n",
                            "      <th>50%</th>\n",
                            "      <td>7.036752</td>\n",
                            "      <td>196.967627</td>\n",
                            "      <td>20927.833607</td>\n",
                            "      <td>7.130299</td>\n",
                            "      <td>333.073546</td>\n",
                            "      <td>421.884968</td>\n",
                            "      <td>14.218338</td>\n",
                            "      <td>66.622485</td>\n",
                            "      <td>3.955028</td>\n",
                            "      <td>0.000000</td>\n",
                            "    </tr>\n",
                            "    <tr>\n",
                            "      <th>75%</th>\n",
                            "      <td>8.062066</td>\n",
                            "      <td>216.667456</td>\n",
                            "      <td>27332.762127</td>\n",
                            "      <td>8.114887</td>\n",
                            "      <td>359.950170</td>\n",
                            "      <td>481.792304</td>\n",
                            "      <td>16.557652</td>\n",
                            "      <td>77.337473</td>\n",
                            "      <td>4.500320</td>\n",
                            "      <td>1.000000</td>\n",
                            "    </tr>\n",
                            "    <tr>\n",
                            "      <th>max</th>\n",
                            "      <td>14.000000</td>\n",
                            "      <td>323.124000</td>\n",
                            "      <td>61227.196008</td>\n",
                            "      <td>13.127000</td>\n",
                            "      <td>481.030642</td>\n",
                            "      <td>753.342620</td>\n",
                            "      <td>28.300000</td>\n",
                            "      <td>124.000000</td>\n",
                            "      <td>6.739000</td>\n",
                            "      <td>1.000000</td>\n",
                            "    </tr>\n",
                            "  </tbody>\n",
                            "</table>\n",
                            "</div>"
                        ],
                        "text/plain": [
                            "                ph     Hardness        Solids  Chloramines      Sulfate  \\\n",
                            "count  2785.000000  3276.000000   3276.000000  3276.000000  2495.000000   \n",
                            "mean      7.080795   196.369496  22014.092526     7.122277   333.775777   \n",
                            "std       1.594320    32.879761   8768.570828     1.583085    41.416840   \n",
                            "min       0.000000    47.432000    320.942611     0.352000   129.000000   \n",
                            "25%       6.093092   176.850538  15666.690297     6.127421   307.699498   \n",
                            "50%       7.036752   196.967627  20927.833607     7.130299   333.073546   \n",
                            "75%       8.062066   216.667456  27332.762127     8.114887   359.950170   \n",
                            "max      14.000000   323.124000  61227.196008    13.127000   481.030642   \n",
                            "\n",
                            "       Conductivity  Organic_carbon  Trihalomethanes    Turbidity   Potability  \n",
                            "count   3276.000000     3276.000000      3114.000000  3276.000000  3276.000000  \n",
                            "mean     426.205111       14.284970        66.396293     3.966786     0.390110  \n",
                            "std       80.824064        3.308162        16.175008     0.780382     0.487849  \n",
                            "min      181.483754        2.200000         0.738000     1.450000     0.000000  \n",
                            "25%      365.734414       12.065801        55.844536     3.439711     0.000000  \n",
                            "50%      421.884968       14.218338        66.622485     3.955028     0.000000  \n",
                            "75%      481.792304       16.557652        77.337473     4.500320     1.000000  \n",
                            "max      753.342620       28.300000       124.000000     6.739000     1.000000  "
                        ]
                    },
                    "execution_count": 4,
                    "metadata": {},
                    "output_type": "execute_result"
                }
            ],
            "source": [
                "data.describe()"
            ]
        },
        {
            "cell_type": "markdown",
            "metadata": {},
            "source": [
                "## Dealing with missing values"
            ]
        },
        {
            "cell_type": "code",
            "execution_count": 5,
            "metadata": {},
            "outputs": [
                {
                    "data": {
                        "text/plain": [
                            "ph                 491\n",
                            "Hardness             0\n",
                            "Solids               0\n",
                            "Chloramines          0\n",
                            "Sulfate            781\n",
                            "Conductivity         0\n",
                            "Organic_carbon       0\n",
                            "Trihalomethanes    162\n",
                            "Turbidity            0\n",
                            "Potability           0\n",
                            "dtype: int64"
                        ]
                    },
                    "execution_count": 5,
                    "metadata": {},
                    "output_type": "execute_result"
                }
            ],
            "source": [
                "data.isnull().sum()"
            ]
        },
        {
            "cell_type": "code",
            "execution_count": 6,
            "metadata": {},
            "outputs": [
                {
                    "data": {
                        "image/png": "[encoded data removed]",
                        "text/plain": [
                            "<Figure size 1080x576 with 2 Axes>"
                        ]
                    },
                    "metadata": {
                        "needs_background": "light"
                    },
                    "output_type": "display_data"
                }
            ],
            "source": [
                "# Display missing values using a heatmap to understand if any patterns are present\n",
                "plt.figure(figsize=(15,8))\n",
                "sns.heatmap(data.isnull());"
            ]
        },
        {
            "cell_type": "code",
            "execution_count": 7,
            "metadata": {},
            "outputs": [
                {
                    "data": {
                        "text/html": [
                            "<div>\n",
                            "<style scoped>\n",
                            "    .dataframe tbody tr th:only-of-type {\n",
                            "        vertical-align: middle;\n",
                            "    }\n",
                            "\n",
                            "    .dataframe tbody tr th {\n",
                            "        vertical-align: top;\n",
                            "    }\n",
                            "\n",
                            "    .dataframe thead th {\n",
                            "        text-align: right;\n",
                            "    }\n",
                            "</style>\n",
                            "<table border=\"1\" class=\"dataframe\">\n",
                            "  <thead>\n",
                            "    <tr style=\"text-align: right;\">\n",
                            "      <th></th>\n",
                            "      <th>Header</th>\n",
                            "      <th>Missing</th>\n",
                            "      <th>Percent</th>\n",
                            "    </tr>\n",
                            "  </thead>\n",
                            "  <tbody>\n",
                            "    <tr>\n",
                            "      <th>0</th>\n",
                            "      <td>ph</td>\n",
                            "      <td>491</td>\n",
                            "      <td>14.987790</td>\n",
                            "    </tr>\n",
                            "    <tr>\n",
                            "      <th>1</th>\n",
                            "      <td>Sulfate</td>\n",
                            "      <td>781</td>\n",
                            "      <td>23.840049</td>\n",
                            "    </tr>\n",
                            "    <tr>\n",
                            "      <th>2</th>\n",
                            "      <td>Trihalomethanes</td>\n",
                            "      <td>162</td>\n",
                            "      <td>4.945055</td>\n",
                            "    </tr>\n",
                            "  </tbody>\n",
                            "</table>\n",
                            "</div>"
                        ],
                        "text/plain": [
                            "            Header  Missing    Percent\n",
                            "0               ph      491  14.987790\n",
                            "1          Sulfate      781  23.840049\n",
                            "2  Trihalomethanes      162   4.945055"
                        ]
                    },
                    "execution_count": 7,
                    "metadata": {},
                    "output_type": "execute_result"
                }
            ],
            "source": [
                "# calculate the missing percentage of data\n",
                "\n",
                "def calculateMissingVal(df):\n",
                "    totalRows = data.shape[0]\n",
                "    missingDict = {}\n",
                "\n",
                "    for header in data.columns:\n",
                "        missingTotal = df[header].isnull().sum()\n",
                "\n",
                "        if not missingTotal: continue\n",
                "        \n",
                "        missPercentage = (missingTotal / totalRows) * 100\n",
                "        missingDict.setdefault(header, [ missingTotal, missPercentage ])\n",
                "\n",
                "    return missingDict\n",
                "\n",
                "\n",
                "missingDF = pd.DataFrame.from_dict(calculateMissingVal(data), orient=\"index\", columns=[\"Missing\", \"Percent\"]).reset_index()\n",
                "missingDF.rename(columns={\"index\": \"Header\"}, inplace=True)\n",
                "\n",
                "missingDF"
            ]
        },
        {
            "cell_type": "markdown",
            "metadata": {},
            "source": [
                "### Replace missing value by using mean operation, take the average of all"
            ]
        },
        {
            "cell_type": "code",
            "execution_count": 8,
            "metadata": {},
            "outputs": [
                {
                    "data": {
                        "image/png": "[encoded data removed]",
                        "text/plain": [
                            "<Figure size 500x300 with 1 Axes>"
                        ]
                    },
                    "metadata": {
                        "needs_background": "light"
                    },
                    "output_type": "display_data"
                }
            ],
            "source": [
                "pHValues = data[\"ph\"].dropna()\n",
                "\n",
                "bins = list(range(0, 15))\n",
                "\n",
                "plt.figure(figsize=(5, 3), dpi=100)\n",
                "plt.scatter(list(range(len(pHValues))), pHValues, color=\"#abcdef\")\n",
                "plt.xlabel(\"# water sample\")\n",
                "plt.ylabel(\"PH value\")\n",
                "\n",
                "plt.show()"
            ]
        },
        {
            "cell_type": "markdown",
            "metadata": {},
            "source": [
                "According to the above graph, the value of PH seems very random thoughout the dataset, Therefore I think get the average or median of them to fill the NAN values is the way to go"
            ]
        },
        {
            "cell_type": "code",
            "execution_count": 9,
            "metadata": {},
            "outputs": [
                {
                    "data": {
                        "image/png": "[encoded data removed]",
                        "text/plain": [
                            "<Figure size 500x300 with 1 Axes>"
                        ]
                    },
                    "metadata": {
                        "needs_background": "light"
                    },
                    "output_type": "display_data"
                }
            ],
            "source": [
                "pHValues = data[\"ph\"].dropna()\n",
                "\n",
                "bins = list(range(0, 15))\n",
                "\n",
                "plt.figure(figsize=(5, 3), dpi=100)\n",
                "plt.hist(pHValues, bins=bins, color=\"#abcdef\")\n",
                "plt.xlabel(\"# water sample\")\n",
                "plt.ylabel(\"PH value\")\n",
                "\n",
                "plt.show()"
            ]
        },
        {
            "cell_type": "code",
            "execution_count": 10,
            "metadata": {},
            "outputs": [],
            "source": [
                "# Fill all missing value with median\n",
                "for header in missingDF[\"Header\"]:\n",
                "    median = data[header].median()\n",
                "\n",
                "    data[header].fillna(median, inplace=True)"
            ]
        },
        {
            "cell_type": "markdown",
            "metadata": {},
            "source": [
                "# Sklearn machine learning"
            ]
        },
        {
            "cell_type": "code",
            "execution_count": 11,
            "metadata": {},
            "outputs": [],
            "source": [
                "# Seperate features and labels\n",
                "\n",
                "X = data.drop([\"Potability\"], axis=1)\n",
                "y = data[\"Potability\"]"
            ]
        },
        {
            "cell_type": "code",
            "execution_count": 12,
            "metadata": {},
            "outputs": [],
            "source": [
                "from sklearn.model_selection import train_test_split\n",
                "from sklearn.preprocessing import StandardScaler\n",
                "\n",
                "trainX, testX, trainY, testY = train_test_split(X, y, test_size=0.25, random_state=101)"
            ]
        },
        {
            "cell_type": "code",
            "execution_count": 13,
            "metadata": {},
            "outputs": [
                {
                    "data": {
                        "image/png": "[encoded data removed]",
                        "text/plain": [
                            "<Figure size 432x288 with 1 Axes>"
                        ]
                    },
                    "metadata": {
                        "needs_background": "light"
                    },
                    "output_type": "display_data"
                }
            ],
            "source": [
                "potabilityCounts = dict(trainY.value_counts())\n",
                "\n",
                "\n",
                "plt.bar(potabilityCounts.keys(), potabilityCounts.values())\n",
                "plt.xticks(list(potabilityCounts.keys()), size=8)\n",
                "plt.xlabel(\"Potability\")\n",
                "plt.ylabel(\"Count\") \n",
                "plt.show()"
            ]
        },
        {
            "cell_type": "code",
            "execution_count": 14,
            "metadata": {},
            "outputs": [],
            "source": [
                "# Sacale input to 0 - 1 values\n",
                "scaler = StandardScaler()\n",
                "scaler.fit(trainX)\n",
                "trainX = scaler.transform(trainX)\n",
                "testX = scaler.transform(testX)"
            ]
        },
        {
            "cell_type": "code",
            "execution_count": 15,
            "metadata": {},
            "outputs": [],
            "source": [
                "from sklearn.linear_model import LogisticRegression,RidgeClassifier,SGDClassifier\n",
                "from sklearn.svm import SVC\n",
                "from sklearn.neighbors import KNeighborsClassifier\n",
                "from sklearn.tree import DecisionTreeClassifier\n",
                "from sklearn.ensemble import RandomForestClassifier\n",
                "\n",
                "from sklearn.metrics import precision_score, accuracy_score, f1_score, recall_score"
            ]
        },
        {
            "cell_type": "code",
            "execution_count": 16,
            "metadata": {},
            "outputs": [],
            "source": [
                "models =[(\"LR\", LogisticRegression()),\n",
                "         (\"SVC\", SVC()),\n",
                "         ('KNN',KNeighborsClassifier()),\n",
                "         (\"DTC\", DecisionTreeClassifier()),\n",
                "         (\"SGDC\", SGDClassifier()),\n",
                "         (\"Ridge\", RidgeClassifier()),\n",
                "         ('RF', RandomForestClassifier()),]\n",
                "\n",
                "finalResults = []\n",
                "\n",
                "for name, model in models:\n",
                "    model.fit(trainX, trainY)\n",
                "    modelResults = model.predict(testX)\n",
                "    pscore = precision_score(testY, modelResults, average=\"macro\")\n",
                "    ascore = accuracy_score(testY, modelResults)\n",
                "    f1Score = f1_score(testY, modelResults, average=None, labels=[1, 0])\n",
                "    finalResults.append(( name, pscore, ascore, f1Score ))\n",
                "\n",
                "\n",
                "finalResults.sort(key=lambda k: k[3][0] + k[3][1], reverse=True)"
            ]
        },
        {
            "cell_type": "code",
            "execution_count": 17,
            "metadata": {},
            "outputs": [
                {
                    "data": {
                        "text/html": [
                            "<div>\n",
                            "<style scoped>\n",
                            "    .dataframe tbody tr th:only-of-type {\n",
                            "        vertical-align: middle;\n",
                            "    }\n",
                            "\n",
                            "    .dataframe tbody tr th {\n",
                            "        vertical-align: top;\n",
                            "    }\n",
                            "\n",
                            "    .dataframe thead th {\n",
                            "        text-align: right;\n",
                            "    }\n",
                            "</style>\n",
                            "<table border=\"1\" class=\"dataframe\">\n",
                            "  <thead>\n",
                            "    <tr style=\"text-align: right;\">\n",
                            "      <th></th>\n",
                            "      <th>Model</th>\n",
                            "      <th>Precision Score</th>\n",
                            "      <th>Accuracy score</th>\n",
                            "      <th>F1 score</th>\n",
                            "    </tr>\n",
                            "  </thead>\n",
                            "  <tbody>\n",
                            "    <tr>\n",
                            "      <th>0</th>\n",
                            "      <td>RF</td>\n",
                            "      <td>0.691566</td>\n",
                            "      <td>0.695971</td>\n",
                            "      <td>[0.48870636550308005, 0.7836663770634231]</td>\n",
                            "    </tr>\n",
                            "    <tr>\n",
                            "      <th>1</th>\n",
                            "      <td>SVC</td>\n",
                            "      <td>0.720368</td>\n",
                            "      <td>0.693529</td>\n",
                            "      <td>[0.42032332563510394, 0.7917012448132781]</td>\n",
                            "    </tr>\n",
                            "    <tr>\n",
                            "      <th>2</th>\n",
                            "      <td>KNN</td>\n",
                            "      <td>0.611381</td>\n",
                            "      <td>0.642247</td>\n",
                            "      <td>[0.44402277039848204, 0.7362736273627364]</td>\n",
                            "    </tr>\n",
                            "    <tr>\n",
                            "      <th>3</th>\n",
                            "      <td>DTC</td>\n",
                            "      <td>0.565121</td>\n",
                            "      <td>0.584860</td>\n",
                            "      <td>[0.4736842105263159, 0.6572580645161291]</td>\n",
                            "    </tr>\n",
                            "    <tr>\n",
                            "      <th>4</th>\n",
                            "      <td>SGDC</td>\n",
                            "      <td>0.610260</td>\n",
                            "      <td>0.620269</td>\n",
                            "      <td>[0.03715170278637771, 0.7634980988593156]</td>\n",
                            "    </tr>\n",
                            "    <tr>\n",
                            "      <th>5</th>\n",
                            "      <td>LR</td>\n",
                            "      <td>0.308913</td>\n",
                            "      <td>0.617827</td>\n",
                            "      <td>[0.0, 0.7637735849056604]</td>\n",
                            "    </tr>\n",
                            "    <tr>\n",
                            "      <th>6</th>\n",
                            "      <td>Ridge</td>\n",
                            "      <td>0.308913</td>\n",
                            "      <td>0.617827</td>\n",
                            "      <td>[0.0, 0.7637735849056604]</td>\n",
                            "    </tr>\n",
                            "  </tbody>\n",
                            "</table>\n",
                            "</div>"
                        ],
                        "text/plain": [
                            "   Model  Precision Score  Accuracy score  \\\n",
                            "0     RF         0.691566        0.695971   \n",
                            "1    SVC         0.720368        0.693529   \n",
                            "2    KNN         0.611381        0.642247   \n",
                            "3    DTC         0.565121        0.584860   \n",
                            "4   SGDC         0.610260        0.620269   \n",
                            "5     LR         0.308913        0.617827   \n",
                            "6  Ridge         0.308913        0.617827   \n",
                            "\n",
                            "                                    F1 score  \n",
                            "0  [0.48870636550308005, 0.7836663770634231]  \n",
                            "1  [0.42032332563510394, 0.7917012448132781]  \n",
                            "2  [0.44402277039848204, 0.7362736273627364]  \n",
                            "3   [0.4736842105263159, 0.6572580645161291]  \n",
                            "4  [0.03715170278637771, 0.7634980988593156]  \n",
                            "5                  [0.0, 0.7637735849056604]  \n",
                            "6                  [0.0, 0.7637735849056604]  "
                        ]
                    },
                    "execution_count": 17,
                    "metadata": {},
                    "output_type": "execute_result"
                }
            ],
            "source": [
                "finalResultsDf = pd.DataFrame(finalResults, columns=[\"Model\", \"Precision Score\", \"Accuracy score\" , \"F1 score\"])\n",
                "\n",
                "finalResultsDf"
            ]
        },
        {
            "cell_type": "markdown",
            "metadata": {},
            "source": [
                "## Randomized search"
            ]
        },
        {
            "cell_type": "code",
            "execution_count": 18,
            "metadata": {},
            "outputs": [],
            "source": [
                "from sklearn.model_selection import RandomizedSearchCV"
            ]
        },
        {
            "cell_type": "code",
            "execution_count": 19,
            "metadata": {},
            "outputs": [],
            "source": [
                "# Randomserach for RandomForestClassifier\n",
                "# https://scikit-learn.org/stable/modules/generated/sklearn.ensemble.RandomForestClassifier.html\n",
                "\n",
                "n_estimators = [100, 300, 500, 800, 1200]\n",
                "max_depth = [5, 10, 15, 25, 30]\n",
                "min_samples_split = [2, 5, 10, 15, 100]\n",
                "min_samples_leaf = [1, 2, 5, 10]\n",
                "\n",
                "hyperF = dict(\n",
                "    n_estimators = n_estimators, \n",
                "    max_depth = max_depth,     \n",
                "    min_samples_split = min_samples_split, \n",
                "    min_samples_leaf = min_samples_leaf\n",
                ")"
            ]
        },
        {
            "cell_type": "code",
            "execution_count": 20,
            "metadata": {},
            "outputs": [],
            "source": [
                "clfRF_random = RandomizedSearchCV(RandomForestClassifier(), hyperF, n_iter=10, cv=5, verbose=2, random_state=42, n_jobs=1)"
            ]
        },
        {
            "cell_type": "code",
            "execution_count": 21,
            "metadata": {},
            "outputs": [
                {
                    "name": "stdout",
                    "output_type": "stream",
                    "text": [
                        "Fitting 5 folds for each of 10 candidates, totalling 50 fits\n",
                        "[CV] END max_depth=25, min_samples_leaf=5, min_samples_split=10, n_estimators=300; total time=   1.2s\n",
                        "[CV] END max_depth=25, min_samples_leaf=5, min_samples_split=10, n_estimators=300; total time=   1.1s\n",
                        "[CV] END max_depth=25, min_samples_leaf=5, min_samples_split=10, n_estimators=300; total time=   1.1s\n",
                        "[CV] END max_depth=25, min_samples_leaf=5, min_samples_split=10, n_estimators=300; total time=   1.1s\n",
                        "[CV] END max_depth=25, min_samples_leaf=5, min_samples_split=10, n_estimators=300; total time=   1.0s\n",
                        "[CV] END max_depth=5, min_samples_leaf=5, min_samples_split=100, n_estimators=800; total time=   1.8s\n",
                        "[CV] END max_depth=5, min_samples_leaf=5, min_samples_split=100, n_estimators=800; total time=   1.8s\n",
                        "[CV] END max_depth=5, min_samples_leaf=5, min_samples_split=100, n_estimators=800; total time=   1.8s\n",
                        "[CV] END max_depth=5, min_samples_leaf=5, min_samples_split=100, n_estimators=800; total time=   1.8s\n",
                        "[CV] END max_depth=5, min_samples_leaf=5, min_samples_split=100, n_estimators=800; total time=   1.8s\n",
                        "[CV] END max_depth=25, min_samples_leaf=5, min_samples_split=100, n_estimators=1200; total time=   4.4s\n",
                        "[CV] END max_depth=25, min_samples_leaf=5, min_samples_split=100, n_estimators=1200; total time=   4.0s\n",
                        "[CV] END max_depth=25, min_samples_leaf=5, min_samples_split=100, n_estimators=1200; total time=   4.0s\n",
                        "[CV] END max_depth=25, min_samples_leaf=5, min_samples_split=100, n_estimators=1200; total time=   4.1s\n",
                        "[CV] END max_depth=25, min_samples_leaf=5, min_samples_split=100, n_estimators=1200; total time=   3.9s\n",
                        "[CV] END max_depth=10, min_samples_leaf=5, min_samples_split=5, n_estimators=100; total time=   0.3s\n",
                        "[CV] END max_depth=10, min_samples_leaf=5, min_samples_split=5, n_estimators=100; total time=   0.3s\n",
                        "[CV] END max_depth=10, min_samples_leaf=5, min_samples_split=5, n_estimators=100; total time=   0.3s\n",
                        "[CV] END max_depth=10, min_samples_leaf=5, min_samples_split=5, n_estimators=100; total time=   0.3s\n",
                        "[CV] END max_depth=10, min_samples_leaf=5, min_samples_split=5, n_estimators=100; total time=   0.3s\n",
                        "[CV] END max_depth=10, min_samples_leaf=1, min_samples_split=2, n_estimators=1200; total time=   4.3s\n",
                        "[CV] END max_depth=10, min_samples_leaf=1, min_samples_split=2, n_estimators=1200; total time=   4.3s\n",
                        "[CV] END max_depth=10, min_samples_leaf=1, min_samples_split=2, n_estimators=1200; total time=   4.3s\n",
                        "[CV] END max_depth=10, min_samples_leaf=1, min_samples_split=2, n_estimators=1200; total time=   4.3s\n",
                        "[CV] END max_depth=10, min_samples_leaf=1, min_samples_split=2, n_estimators=1200; total time=   4.4s\n",
                        "[CV] END max_depth=25, min_samples_leaf=10, min_samples_split=15, n_estimators=1200; total time=   4.6s\n",
                        "[CV] END max_depth=25, min_samples_leaf=10, min_samples_split=15, n_estimators=1200; total time=   4.3s\n",
                        "[CV] END max_depth=25, min_samples_leaf=10, min_samples_split=15, n_estimators=1200; total time=   4.3s\n",
                        "[CV] END max_depth=25, min_samples_leaf=10, min_samples_split=15, n_estimators=1200; total time=   4.2s\n",
                        "[CV] END max_depth=25, min_samples_leaf=10, min_samples_split=15, n_estimators=1200; total time=   4.2s\n",
                        "[CV] END max_depth=25, min_samples_leaf=10, min_samples_split=2, n_estimators=500; total time=   1.8s\n",
                        "[CV] END max_depth=25, min_samples_leaf=10, min_samples_split=2, n_estimators=500; total time=   1.7s\n",
                        "[CV] END max_depth=25, min_samples_leaf=10, min_samples_split=2, n_estimators=500; total time=   1.8s\n",
                        "[CV] END max_depth=25, min_samples_leaf=10, min_samples_split=2, n_estimators=500; total time=   1.7s\n",
                        "[CV] END max_depth=25, min_samples_leaf=10, min_samples_split=2, n_estimators=500; total time=   1.7s\n",
                        "[CV] END max_depth=10, min_samples_leaf=1, min_samples_split=100, n_estimators=1200; total time=   3.9s\n",
                        "[CV] END max_depth=10, min_samples_leaf=1, min_samples_split=100, n_estimators=1200; total time=   3.7s\n",
                        "[CV] END max_depth=10, min_samples_leaf=1, min_samples_split=100, n_estimators=1200; total time=   3.7s\n",
                        "[CV] END max_depth=10, min_samples_leaf=1, min_samples_split=100, n_estimators=1200; total time=   3.7s\n",
                        "[CV] END max_depth=10, min_samples_leaf=1, min_samples_split=100, n_estimators=1200; total time=   3.8s\n",
                        "[CV] END max_depth=5, min_samples_leaf=5, min_samples_split=15, n_estimators=800; total time=   2.0s\n",
                        "[CV] END max_depth=5, min_samples_leaf=5, min_samples_split=15, n_estimators=800; total time=   2.0s\n",
                        "[CV] END max_depth=5, min_samples_leaf=5, min_samples_split=15, n_estimators=800; total time=   1.9s\n",
                        "[CV] END max_depth=5, min_samples_leaf=5, min_samples_split=15, n_estimators=800; total time=   1.8s\n",
                        "[CV] END max_depth=5, min_samples_leaf=5, min_samples_split=15, n_estimators=800; total time=   1.8s\n",
                        "[CV] END max_depth=30, min_samples_leaf=5, min_samples_split=2, n_estimators=100; total time=   0.3s\n",
                        "[CV] END max_depth=30, min_samples_leaf=5, min_samples_split=2, n_estimators=100; total time=   0.3s\n",
                        "[CV] END max_depth=30, min_samples_leaf=5, min_samples_split=2, n_estimators=100; total time=   0.3s\n",
                        "[CV] END max_depth=30, min_samples_leaf=5, min_samples_split=2, n_estimators=100; total time=   0.3s\n",
                        "[CV] END max_depth=30, min_samples_leaf=5, min_samples_split=2, n_estimators=100; total time=   0.3s\n"
                    ]
                },
                {
                    "data": {
                        "text/plain": [
                            "RandomizedSearchCV(cv=5, estimator=RandomForestClassifier(), n_jobs=1,\n",
                            "                   param_distributions={'max_depth': [5, 10, 15, 25, 30],\n",
                            "                                        'min_samples_leaf': [1, 2, 5, 10],\n",
                            "                                        'min_samples_split': [2, 5, 10, 15,\n",
                            "                                                              100],\n",
                            "                                        'n_estimators': [100, 300, 500, 800,\n",
                            "                                                         1200]},\n",
                            "                   random_state=42, verbose=2)"
                        ]
                    },
                    "execution_count": 21,
                    "metadata": {},
                    "output_type": "execute_result"
                }
            ],
            "source": [
                "clfRF_random.fit(trainX, trainY)"
            ]
        },
        {
            "cell_type": "code",
            "execution_count": 22,
            "metadata": {},
            "outputs": [
                {
                    "name": "stdout",
                    "output_type": "stream",
                    "text": [
                        "RandomForestClassifier(max_depth=25, min_samples_leaf=5, min_samples_split=10,\n",
                        "                       n_estimators=300)\n",
                        "{'n_estimators': 300, 'min_samples_split': 10, 'min_samples_leaf': 5, 'max_depth': 25}\n"
                    ]
                }
            ],
            "source": [
                "print(clfRF_random.best_estimator_)\n",
                "print(clfRF_random.best_params_)"
            ]
        },
        {
            "cell_type": "code",
            "execution_count": 23,
            "metadata": {},
            "outputs": [],
            "source": [
                "predictionsY = clfRF_random.predict(testX)"
            ]
        },
        {
            "cell_type": "code",
            "execution_count": 24,
            "metadata": {},
            "outputs": [
                {
                    "name": "stdout",
                    "output_type": "stream",
                    "text": [
                        "Accuracy score 0.6800976800976801\n",
                        "Precision score 0.6888888888888889\n",
                        "Recall score 0.2971246006389776\n",
                        "F1 score [0.41517857 0.77983193]\n"
                    ]
                }
            ],
            "source": [
                "print(f\"Accuracy score {accuracy_score(testY, predictionsY)}\")\n",
                "print(f\"Precision score {precision_score(testY, predictionsY)}\")\n",
                "print(f\"Recall score {recall_score(testY, predictionsY)}\")\n",
                "print(f\"F1 score {f1_score(testY, predictionsY, average=None, labels=[1, 0])}\")"
            ]
        },
        {
            "cell_type": "code",
            "execution_count": 25,
            "metadata": {},
            "outputs": [],
            "source": [
                "# Randomserach for SVC\n",
                "# https://scikit-learn.org/stable/modules/generated/sklearn.svm.SVC.html\n",
                "\n",
                "\n",
                "C = [0.00001, 0.001, 1, 10, 100]\n",
                "kernel = [ \"linear\", \"poly\", \"sigmoid\", \"rbf\" ]\n",
                "gamma = [\"scale\", \"auto\"]\n",
                "\n",
                "hyperF = dict(\n",
                "    C=C,\n",
                "    kernel=kernel,\n",
                "    gamma=gamma\n",
                ")"
            ]
        },
        {
            "cell_type": "code",
            "execution_count": 26,
            "metadata": {},
            "outputs": [],
            "source": [
                "clfSVC_random = RandomizedSearchCV(SVC(), hyperF, n_iter=10, cv=5, verbose=2, random_state=42, n_jobs=1)"
            ]
        },
        {
            "cell_type": "code",
            "execution_count": 27,
            "metadata": {},
            "outputs": [
                {
                    "name": "stdout",
                    "output_type": "stream",
                    "text": [
                        "Fitting 5 folds for each of 10 candidates, totalling 50 fits\n",
                        "[CV] END .......................C=1, gamma=scale, kernel=rbf; total time=   0.1s\n",
                        "[CV] END .......................C=1, gamma=scale, kernel=rbf; total time=   0.1s\n",
                        "[CV] END .......................C=1, gamma=scale, kernel=rbf; total time=   0.1s\n",
                        "[CV] END .......................C=1, gamma=scale, kernel=rbf; total time=   0.1s\n",
                        "[CV] END .......................C=1, gamma=scale, kernel=rbf; total time=   0.1s\n",
                        "[CV] END ....................C=1, gamma=scale, kernel=linear; total time=   0.0s\n",
                        "[CV] END ....................C=1, gamma=scale, kernel=linear; total time=   0.0s\n",
                        "[CV] END ....................C=1, gamma=scale, kernel=linear; total time=   0.0s\n",
                        "[CV] END ....................C=1, gamma=scale, kernel=linear; total time=   0.0s\n",
                        "[CV] END ....................C=1, gamma=scale, kernel=linear; total time=   0.0s\n",
                        "[CV] END ....................C=0.001, gamma=auto, kernel=rbf; total time=   0.1s\n",
                        "[CV] END ....................C=0.001, gamma=auto, kernel=rbf; total time=   0.1s\n",
                        "[CV] END ....................C=0.001, gamma=auto, kernel=rbf; total time=   0.1s\n",
                        "[CV] END ....................C=0.001, gamma=auto, kernel=rbf; total time=   0.1s\n",
                        "[CV] END ....................C=0.001, gamma=auto, kernel=rbf; total time=   0.1s\n",
                        "[CV] END ..................C=10, gamma=scale, kernel=sigmoid; total time=   0.0s\n",
                        "[CV] END ..................C=10, gamma=scale, kernel=sigmoid; total time=   0.0s\n",
                        "[CV] END ..................C=10, gamma=scale, kernel=sigmoid; total time=   0.0s\n",
                        "[CV] END ..................C=10, gamma=scale, kernel=sigmoid; total time=   0.0s\n",
                        "[CV] END ..................C=10, gamma=scale, kernel=sigmoid; total time=   0.0s\n",
                        "[CV] END .................C=1e-05, gamma=auto, kernel=linear; total time=   0.0s\n",
                        "[CV] END .................C=1e-05, gamma=auto, kernel=linear; total time=   0.0s\n",
                        "[CV] END .................C=1e-05, gamma=auto, kernel=linear; total time=   0.0s\n",
                        "[CV] END .................C=1e-05, gamma=auto, kernel=linear; total time=   0.0s\n",
                        "[CV] END .................C=1e-05, gamma=auto, kernel=linear; total time=   0.0s\n",
                        "[CV] END .................C=0.001, gamma=auto, kernel=linear; total time=   0.0s\n",
                        "[CV] END .................C=0.001, gamma=auto, kernel=linear; total time=   0.0s\n",
                        "[CV] END .................C=0.001, gamma=auto, kernel=linear; total time=   0.0s\n",
                        "[CV] END .................C=0.001, gamma=auto, kernel=linear; total time=   0.0s\n",
                        "[CV] END .................C=0.001, gamma=auto, kernel=linear; total time=   0.0s\n",
                        "[CV] END .....................C=100, gamma=auto, kernel=poly; total time=   6.3s\n",
                        "[CV] END .....................C=100, gamma=auto, kernel=poly; total time=   7.2s\n",
                        "[CV] END .....................C=100, gamma=auto, kernel=poly; total time=   6.1s\n",
                        "[CV] END .....................C=100, gamma=auto, kernel=poly; total time=   6.0s\n",
                        "[CV] END .....................C=100, gamma=auto, kernel=poly; total time=   7.9s\n",
                        "[CV] END ......................C=10, gamma=scale, kernel=rbf; total time=   0.1s\n",
                        "[CV] END ......................C=10, gamma=scale, kernel=rbf; total time=   0.1s\n",
                        "[CV] END ......................C=10, gamma=scale, kernel=rbf; total time=   0.1s\n",
                        "[CV] END ......................C=10, gamma=scale, kernel=rbf; total time=   0.1s\n",
                        "[CV] END ......................C=10, gamma=scale, kernel=rbf; total time=   0.1s\n",
                        "[CV] END ......................C=100, gamma=auto, kernel=rbf; total time=   0.5s\n",
                        "[CV] END ......................C=100, gamma=auto, kernel=rbf; total time=   0.5s\n",
                        "[CV] END ......................C=100, gamma=auto, kernel=rbf; total time=   0.5s\n",
                        "[CV] END ......................C=100, gamma=auto, kernel=rbf; total time=   0.5s\n",
                        "[CV] END ......................C=100, gamma=auto, kernel=rbf; total time=   0.5s\n",
                        "[CV] END ................C=1e-05, gamma=auto, kernel=sigmoid; total time=   0.0s\n",
                        "[CV] END ................C=1e-05, gamma=auto, kernel=sigmoid; total time=   0.0s\n",
                        "[CV] END ................C=1e-05, gamma=auto, kernel=sigmoid; total time=   0.0s\n",
                        "[CV] END ................C=1e-05, gamma=auto, kernel=sigmoid; total time=   0.0s\n",
                        "[CV] END ................C=1e-05, gamma=auto, kernel=sigmoid; total time=   0.0s\n"
                    ]
                },
                {
                    "data": {
                        "text/plain": [
                            "RandomizedSearchCV(cv=5, estimator=SVC(), n_jobs=1,\n",
                            "                   param_distributions={'C': [1e-05, 0.001, 1, 10, 100],\n",
                            "                                        'gamma': ['scale', 'auto'],\n",
                            "                                        'kernel': ['linear', 'poly', 'sigmoid',\n",
                            "                                                   'rbf']},\n",
                            "                   random_state=42, verbose=2)"
                        ]
                    },
                    "execution_count": 27,
                    "metadata": {},
                    "output_type": "execute_result"
                }
            ],
            "source": [
                "clfSVC_random.fit(trainX, trainY)"
            ]
        },
        {
            "cell_type": "code",
            "execution_count": 28,
            "metadata": {},
            "outputs": [
                {
                    "name": "stdout",
                    "output_type": "stream",
                    "text": [
                        "SVC(C=1)\n",
                        "{'kernel': 'rbf', 'gamma': 'scale', 'C': 1}\n"
                    ]
                }
            ],
            "source": [
                "print(clfSVC_random.best_estimator_)\n",
                "print(clfSVC_random.best_params_)"
            ]
        },
        {
            "cell_type": "code",
            "execution_count": 29,
            "metadata": {},
            "outputs": [
                {
                    "name": "stdout",
                    "output_type": "stream",
                    "text": [
                        "Accuracy score 0.6935286935286935\n",
                        "Precision score 0.7203683834048641\n",
                        "Recall score 0.29073482428115016\n",
                        "F1 score [0.42032333 0.79170124]\n"
                    ]
                }
            ],
            "source": [
                "print(f\"Accuracy score {accuracy_score(testY, clfSVC_random.predict(testX))}\")\n",
                "print(f\"Precision score {precision_score(testY, clfSVC_random.predict(testX), average='macro')}\")\n",
                "print(f\"Recall score {recall_score(testY, clfSVC_random.predict(testX))}\")\n",
                "print(f\"F1 score {f1_score(testY, clfSVC_random.predict(testX), average=None, labels=[1, 0])}\")"
            ]
        },
        {
            "cell_type": "markdown",
            "metadata": {},
            "source": [
                "## Save the most accurate model "
            ]
        },
        {
            "cell_type": "code",
            "execution_count": 30,
            "metadata": {},
            "outputs": [],
            "source": [
                "import pickle\n",
                "\n",
                "with open(\"./water_potability_predictions.pkl\", \"wb\") as f:\n",
                "    pickle.dump(clfSVC_random, f)"
            ]
        }
    ],
    "metadata": {
        "interpreter": {
            "hash": "b0026a393277ea7adb6bba6a0597a5af8cc6b59094f3d74ff247f1117c120319"
        },
        "kernelspec": {
            "display_name": "Python 3.8.6 64-bit ('env': venv)",
            "name": "python3"
        },
        "language_info": {
            "codemirror_mode": {
                "name": "ipython",
                "version": 3
            },
            "file_extension": ".py",
            "mimetype": "text/x-python",
            "name": "python",
            "nbconvert_exporter": "python",
            "pygments_lexer": "ipython3",
            "version": "3.9.6"
        },
        "orig_nbformat": 4
    },
    "nbformat": 4,
    "nbformat_minor": 2
}
